{
  "nbformat": 4,
  "nbformat_minor": 0,
  "metadata": {
    "colab": {
      "provenance": [],
      "authorship_tag": "ABX9TyM9lUFUvxnorMHMe1Qp/2wB",
      "include_colab_link": true
    },
    "kernelspec": {
      "name": "python3",
      "display_name": "Python 3"
    },
    "language_info": {
      "name": "python"
    }
  },
  "cells": [
    {
      "cell_type": "markdown",
      "metadata": {
        "id": "view-in-github",
        "colab_type": "text"
      },
      "source": [
        "<a href=\"https://colab.research.google.com/github/JustinSiew/PizzaOrder_Justin/blob/main/ExercisePizza.ipynb\" target=\"_parent\"><img src=\"https://colab.research.google.com/assets/colab-badge.svg\" alt=\"Open In Colab\"/></a>"
      ]
    },
    {
      "cell_type": "code",
      "execution_count": null,
      "metadata": {
        "colab": {
          "base_uri": "https://localhost:8080/"
        },
        "id": "rVxZeb38esX6",
        "outputId": "b4efa742-cf84-4559-fca2-849140223d17"
      },
      "outputs": [
        {
          "output_type": "stream",
          "name": "stdout",
          "text": [
            "-BBQ Chicken : RM 30\n",
            "-Mix Vegetable : RM 20\n",
            "-Haiwaiian Chicken : RM 40\n"
          ]
        }
      ],
      "source": [
        "# Menu Display\n",
        "menu = {\"BBQ Chicken\" : 30 , \"Mix Vegetable\" : 20 , \"Haiwaiian Chicken\" : 40 }\n",
        "\n",
        "def display_menu(menu) :\n",
        "  for pizza , price in menu.items() :\n",
        "    print(f\"-{pizza} : RM {price}\")\n",
        "\n",
        "display_menu(menu)"
      ]
    },
    {
      "cell_type": "code",
      "source": [
        "# Order Input\n",
        "menu = {\"BBQ Chicken\" : 30 , \"Mix Vegetable\" : 20 , \"Hawaiian Chicken\" : 40 }\n",
        "order = []\n",
        "\n",
        "while True:\n",
        "  usrInput = input(\"Enter the pizza you want to order and type 'done' to finish order : \")\n",
        "  if usrInput == \"done\" :\n",
        "    break\n",
        "  elif usrInput in menu :\n",
        "    order.append(usrInput)\n",
        "  else:\n",
        "    print(\"Sorry ! The pizza is not available\")\n",
        "\n",
        "print(\"Below are your orders : \")\n",
        "for pizza in order :\n",
        "  print(f\"-{pizza}\")\n",
        "\n",
        "\n"
      ],
      "metadata": {
        "colab": {
          "base_uri": "https://localhost:8080/"
        },
        "id": "o3wVhpBzg_Fp",
        "outputId": "b3267077-f570-4a38-e57f-49d98feb67ce"
      },
      "execution_count": null,
      "outputs": [
        {
          "output_type": "stream",
          "name": "stdout",
          "text": [
            "Enter the pizza you want to order and type 'done' to finish order : BBQ Chicken\n",
            "Enter the pizza you want to order and type 'done' to finish order : Hawaiian Chicken\n",
            "Enter the pizza you want to order and type 'done' to finish order : done\n",
            "Below are your orders : \n",
            "-BBQ Chicken\n",
            "-Hawaiian Chicken\n"
          ]
        }
      ]
    },
    {
      "cell_type": "code",
      "source": [
        "#Customer Type Check\n",
        "usrInput2 = input(\"Are you a regular customer? Type 'y' for yes and 'n' for no : \").lower()\n",
        "Dis = 0\n",
        "if usrInput2 == \"y\" :\n",
        "  Dis = 1\n",
        "else:\n",
        "  Dis = 0\n"
      ],
      "metadata": {
        "colab": {
          "base_uri": "https://localhost:8080/"
        },
        "id": "6a_UNUHSl0T7",
        "outputId": "6aacaf0a-d9c0-49d6-d107-78a0216bff92"
      },
      "execution_count": null,
      "outputs": [
        {
          "name": "stdout",
          "output_type": "stream",
          "text": [
            "Are you a regular customer? Type 'y' for yes and 'n' for no : y\n"
          ]
        }
      ]
    },
    {
      "cell_type": "code",
      "source": [
        "def apply_discount(Dis,order,menu):\n",
        "  cost = 0\n",
        "  totalcost = 0\n",
        "  discount = \" \"\n",
        "  for pizza, price in menu.items():\n",
        "    for pizza2 in order :\n",
        "       if pizza == pizza2 :\n",
        "        cost = cost + price\n",
        "       else:\n",
        "        cost = cost\n",
        "\n",
        "  if cost > 100 :\n",
        "    discount = \"15%\"\n",
        "    totalcost = cost * (1-0.15)\n",
        "  elif Dis == 1 :\n",
        "    if cost <= 100:\n",
        "      discount = \"10%\"\n",
        "      totalcost = cost * (1-0.1)\n",
        "  else:\n",
        "    discount = \"No Discount\"\n",
        "    totalcost = cost\n",
        "\n",
        "  fcost = float(cost)\n",
        "  ftotalcost = float(totalcost)\n",
        "  return print(f\" Total cost : RM {fcost:.2f}\\n Discount : {discount} \\n Final cost : RM {ftotalcost:.2f}\\n \")\n",
        "\n",
        "\n",
        "print(\"Your orders : \")\n",
        "for pizza in order:\n",
        "  print(f\"-{pizza}\")\n",
        "apply_discount(Dis,order,menu)\n",
        "\n"
      ],
      "metadata": {
        "colab": {
          "base_uri": "https://localhost:8080/"
        },
        "id": "d-Twis7ani_R",
        "outputId": "ba4cbfd5-f7ab-4c18-a99b-22d26ea2bc77"
      },
      "execution_count": null,
      "outputs": [
        {
          "output_type": "stream",
          "name": "stdout",
          "text": [
            "Your orders : \n",
            "-BBQ Chicken\n",
            "-Hawaiian Chicken\n",
            " Total cost : RM 70.00\n",
            " Discount : 10% \n",
            " Final cost : RM 63.00\n",
            " \n"
          ]
        }
      ]
    }
  ]
}